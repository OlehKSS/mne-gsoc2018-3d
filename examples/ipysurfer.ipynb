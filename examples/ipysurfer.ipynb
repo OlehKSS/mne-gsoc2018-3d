{
 "cells": [
  {
   "cell_type": "markdown",
   "metadata": {},
   "source": [
    "# Ipysurfer examples"
   ]
  },
  {
   "cell_type": "markdown",
   "metadata": {},
   "source": [
    "## Basic Visualization"
   ]
  },
  {
   "cell_type": "markdown",
   "metadata": {},
   "source": [
    "Initialize a basic visualization sessiona and plot a brain mesh. For this purpose we need to provide subject information, e.g. `subject_id`, `subjects_dir`; which type of freesurfer surface mesh we would like to plot, e.g. 'pialed' or 'inflated'; and which hemisphere to plot or whether to plot both."
   ]
  },
  {
   "cell_type": "code",
   "execution_count": 35,
   "metadata": {},
   "outputs": [],
   "source": [
    "import os.path as path\n",
    "\n",
    "import mne\n",
    "\n",
    "from ipysurfer import Brain"
   ]
  },
  {
   "cell_type": "code",
   "execution_count": 3,
   "metadata": {},
   "outputs": [
    {
     "data": {
      "application/vnd.jupyter.widget-view+json": {
       "model_id": "a5bb31262f224d5b8bc7b04675e9b445",
       "version_major": 2,
       "version_minor": 0
      },
      "text/plain": [
       "VBox(children=(HTML(value='<p style=\"color: None\"><b>Sample</b></p>'), HBox(children=(Figure(animation=0.0, ca…"
      ]
     },
     "metadata": {},
     "output_type": "display_data"
    }
   ],
   "source": [
    "data_path = mne.datasets.sample.data_path()\n",
    "\n",
    "subject_id = 'sample'\n",
    "subjects_dir = path.join(data_path, 'subjects')\n",
    "\n",
    "# show both hemispheres on one plot\n",
    "hemi = 'both'\n",
    "surf = 'inflated'\n",
    "\n",
    "# Call the Brain object constructor with\n",
    "# parameters to initialize the visualization session.\n",
    "brain = Brain(subject_id, hemi, surf, size=300, subjects_dir=subjects_dir)\n",
    "brain.show()"
   ]
  },
  {
   "cell_type": "code",
   "execution_count": 26,
   "metadata": {},
   "outputs": [
    {
     "data": {
      "application/vnd.jupyter.widget-view+json": {
       "model_id": "eddb83162e6b43bd8d1afc5def50ac88",
       "version_major": 2,
       "version_minor": 0
      },
      "text/plain": [
       "VBox(children=(HTML(value='<p style=\"color: None\"><b>Sample</b></p>'), HBox(children=(Figure(animation=0.0, ca…"
      ]
     },
     "metadata": {},
     "output_type": "display_data"
    }
   ],
   "source": [
    "# show both hemispheres on separate plots\n",
    "hemi = 'split'\n",
    "\n",
    "# Call the Brain object constructor with\n",
    "# parameters to initialize the visualization session.\n",
    "brain = Brain(subject_id, hemi, surf, size=300, subjects_dir=subjects_dir)\n",
    "brain.show()"
   ]
  },
  {
   "cell_type": "markdown",
   "metadata": {},
   "source": [
    "## Activation Data Visualization"
   ]
  },
  {
   "cell_type": "markdown",
   "metadata": {},
   "source": [
    "In this example it is shown how to add activation data to a plot. By default, color bar and input boxes for `fmin`, `fmid` and `fmax` control parameters of a color map are attached to the plot.\n",
    "\n",
    "A colormap may be sequential or divergent, the latter has defined `center` parameter. The meanings of fmin, fmid and fmax are different for sequential and divergent colormaps. A sequential colormap is characterised by \n",
    "```\n",
    "[fmin, fmid, fmax]\n",
    "```\n",
    "where `fmin` and `fmax` define the edges of the colormap and `fmid` will be the value mapped to the center of the originally chosen colormap. A divergent colormap is characterised by\n",
    "```\n",
    "[center-fmax, center-fmid, center-fmin, center, center+fmin, center+fmid, center+fmax]\n",
    "```\n",
    "i.e., values between center-fmin and center+fmin will not be shown while `center-fmid` will map to the middle of the first half of the original colormap and `center-fmid` to the middle of the second half."
   ]
  },
  {
   "cell_type": "code",
   "execution_count": 32,
   "metadata": {},
   "outputs": [],
   "source": [
    "act_data = path.join(data_path, 'MEG/sample/sample_audvis-meg-eeg')\n",
    "\n",
    "# read mne provided example of data\n",
    "stc = mne.read_source_estimate(act_data)\n",
    "\n",
    "# select which hemisphere to plot\n",
    "hemi = 'lh'\n",
    "# select data that corresponds to the 'lh' hemisphere for the selected time moment\n",
    "hemi_data = stc.data[:len(stc.vertices[0]), 10]\n",
    "hemi_vertices = stc.vertices[0]\n",
    "\n",
    "fmin = stc.data.min()\n",
    "fmax = stc.data.max()"
   ]
  },
  {
   "cell_type": "code",
   "execution_count": 34,
   "metadata": {},
   "outputs": [
    {
     "data": {
      "application/vnd.jupyter.widget-view+json": {
       "model_id": "a6b6997b4def4e25a333f8a0a599d6a1",
       "version_major": 2,
       "version_minor": 0
      },
      "text/plain": [
       "VBox(children=(HTML(value='<p style=\"color: None\"><b>Sample</b></p>'), HBox(children=(Figure(animation=0.0, ca…"
      ]
     },
     "metadata": {},
     "output_type": "display_data"
    }
   ],
   "source": [
    "brain_data = Brain(subject_id, hemi, surf, size=300, subjects_dir=subjects_dir)\n",
    "\n",
    "brain_data.add_data(hemi_data, fmin=fmin, hemi=hemi, fmax=fmax, colormap='hot', vertices=hemi_vertices)\n",
    "brain_data.show()"
   ]
  },
  {
   "cell_type": "markdown",
   "metadata": {},
   "source": [
    "Color bar controls can be disabled as in the following example."
   ]
  },
  {
   "cell_type": "code",
   "execution_count": 36,
   "metadata": {},
   "outputs": [
    {
     "data": {
      "application/vnd.jupyter.widget-view+json": {
       "model_id": "bf26fc5cf7d547df98f576041773c15a",
       "version_major": 2,
       "version_minor": 0
      },
      "text/plain": [
       "VBox(children=(HTML(value='<p style=\"color: None\"><b>Sample</b></p>'), HBox(children=(Figure(animation=0.0, ca…"
      ]
     },
     "metadata": {},
     "output_type": "display_data"
    }
   ],
   "source": [
    "brain_data = Brain(subject_id, hemi, surf, size=300, subjects_dir=subjects_dir)\n",
    "\n",
    "# color bar controls are attached by default, so we need to change parameter value\n",
    "brain_data.add_data(hemi_data, fmin=fmin, hemi=hemi, fmax=fmax, colormap='hot', vertices=hemi_vertices, colorbar=False)\n",
    "brain_data.show()"
   ]
  },
  {
   "cell_type": "markdown",
   "metadata": {},
   "source": [
    "## Activation Data Visualization for Different Time Moments"
   ]
  },
  {
   "cell_type": "markdown",
   "metadata": {},
   "source": [
    "Use `TimeViewer` class to append time viewer widget to the plot."
   ]
  },
  {
   "cell_type": "code",
   "execution_count": 37,
   "metadata": {},
   "outputs": [],
   "source": [
    "from ipysurfer import TimeViewer"
   ]
  },
  {
   "cell_type": "code",
   "execution_count": 45,
   "metadata": {},
   "outputs": [],
   "source": [
    "act_data = path.join(data_path, 'MEG/sample/sample_audvis-meg-eeg')\n",
    "\n",
    "# read mne provided example of data\n",
    "stc = mne.read_source_estimate(act_data)\n",
    "\n",
    "# select which hemisphere to plot\n",
    "hemi = 'rh'\n",
    "\n",
    "# select data that corresponds to 'lh' hemisphere for each moment of time\n",
    "hemi_data = stc.data[:len(stc.vertices[0]), :]\n",
    "hemi_vertices = stc.vertices[0]\n",
    "\n",
    "# we will need to provide list of time points and select initial time\n",
    "hemi_times = stc.times\n",
    "hemi_initial_time = 0.09\n",
    "\n",
    "# time label formating string to be shown\n",
    "hemi_time_label = 'time=%0.2f ms'\n",
    "\n",
    "fmin = 5\n",
    "fmax = 28"
   ]
  },
  {
   "cell_type": "code",
   "execution_count": 46,
   "metadata": {
    "scrolled": false
   },
   "outputs": [
    {
     "data": {
      "application/vnd.jupyter.widget-view+json": {
       "model_id": "2e560b20cd9a4cdb953ff8e4dab8c8b9",
       "version_major": 2,
       "version_minor": 0
      },
      "text/plain": [
       "VBox(children=(HTML(value='<p style=\"color: None\"><b>Sample</b></p>'), HBox(children=(Figure(animation=500.0, …"
      ]
     },
     "metadata": {},
     "output_type": "display_data"
    }
   ],
   "source": [
    "brain_data = Brain(subject_id, hemi, surf, size=400, subjects_dir=subjects_dir)\n",
    "brain_data.add_data(hemi_data, fmin=fmin, hemi=hemi, fmax=fmax, colormap='hot', initial_time=hemi_initial_time,\n",
    "                    time=hemi_times, vertices=hemi_vertices, colorbar=False, time_label=hemi_time_label)\n",
    "\n",
    "time_viewer = TimeViewer(brain_data)\n",
    "time_viewer.show()"
   ]
  },
  {
   "cell_type": "markdown",
   "metadata": {},
   "source": [
    "We can show color bar and time viewer widgets together"
   ]
  },
  {
   "cell_type": "code",
   "execution_count": 48,
   "metadata": {},
   "outputs": [
    {
     "data": {
      "application/vnd.jupyter.widget-view+json": {
       "model_id": "ddcb2e94633e4ab7bf97ab5f1cab527b",
       "version_major": 2,
       "version_minor": 0
      },
      "text/plain": [
       "VBox(children=(HTML(value='<p style=\"color: None\"><b>Sample</b></p>'), HBox(children=(Figure(animation=500.0, …"
      ]
     },
     "metadata": {},
     "output_type": "display_data"
    }
   ],
   "source": [
    "brain_data = Brain(subject_id, hemi, surf, size=400, subjects_dir=subjects_dir)\n",
    "brain_data.add_data(hemi_data, fmin=fmin, hemi=hemi, fmax=fmax, colormap='hot', initial_time=hemi_initial_time,\n",
    "                    time=hemi_times, vertices=hemi_vertices, colorbar=True, time_label=hemi_time_label)\n",
    "\n",
    "time_viewer = TimeViewer(brain_data)\n",
    "time_viewer.show()"
   ]
  },
  {
   "cell_type": "code",
   "execution_count": null,
   "metadata": {},
   "outputs": [],
   "source": []
  }
 ],
 "metadata": {
  "kernelspec": {
   "display_name": "Python (mne_g3d)",
   "language": "python",
   "name": "mne_g3d"
  },
  "language_info": {
   "codemirror_mode": {
    "name": "ipython",
    "version": 3
   },
   "file_extension": ".py",
   "mimetype": "text/x-python",
   "name": "python",
   "nbconvert_exporter": "python",
   "pygments_lexer": "ipython3",
   "version": "3.5.5"
  }
 },
 "nbformat": 4,
 "nbformat_minor": 2
}
