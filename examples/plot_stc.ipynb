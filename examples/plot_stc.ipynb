{
 "cells": [
  {
   "cell_type": "markdown",
   "metadata": {},
   "source": [
    "# Brain Mesh"
   ]
  },
  {
   "cell_type": "markdown",
   "metadata": {},
   "source": [
    "## Import of  modules"
   ]
  },
  {
   "cell_type": "code",
   "execution_count": 1,
   "metadata": {},
   "outputs": [],
   "source": [
    "import os.path as path\n",
    "\n",
    "import mne\n",
    "from mne import read_source_estimate\n",
    "\n",
    "import numpy as np"
   ]
  },
  {
   "cell_type": "code",
   "execution_count": 2,
   "metadata": {},
   "outputs": [],
   "source": [
    "import mne_g3d"
   ]
  },
  {
   "cell_type": "markdown",
   "metadata": {},
   "source": [
    "## Data reading"
   ]
  },
  {
   "cell_type": "code",
   "execution_count": 3,
   "metadata": {},
   "outputs": [],
   "source": [
    "data_path = mne.datasets.sample.data_path()\n",
    "\n",
    "subject = 'sample'\n",
    "subjects_dir = path.join(data_path, 'subjects')\n",
    "act_data = path.join(data_path, 'MEG/sample/sample_audvis-meg-eeg')\n",
    "\n",
    "stc = read_source_estimate(act_data)"
   ]
  },
  {
   "cell_type": "markdown",
   "metadata": {},
   "source": [
    "## Plot source estimates using given initial time"
   ]
  },
  {
   "cell_type": "code",
   "execution_count": 4,
   "metadata": {
    "scrolled": false
   },
   "outputs": [
    {
     "name": "stdout",
     "output_type": "stream",
     "text": [
      "Morphing data...\n",
      "    Left-hemisphere map read.\n",
      "    Right-hemisphere map read.\n",
      "    Left-hemisphere map read.\n",
      "    Right-hemisphere map read.\n",
      "    10 smooth iterations done.\n",
      "    10 smooth iterations done.\n",
      "[done]\n"
     ]
    },
    {
     "data": {
      "application/vnd.jupyter.widget-view+json": {
       "model_id": "f3d7f1f169734796a83ede3a206d9c82",
       "version_major": 2,
       "version_minor": 0
      },
      "text/plain": [
       "VBox(children=(Figure(camera=PerspectiveCamera(fov=46.0, position=(0.0, 0.0, 2.0), quaternion=(0.0, 0.0, 0.0, …"
      ]
     },
     "metadata": {},
     "output_type": "display_data"
    }
   ],
   "source": [
    "fig = mne_g3d.viz.plot_source_estimates(stc, subject=subject, surface='inflated', hemi='both',\n",
    "                          colormap='hot', smoothing_steps=10, \n",
    "                          transparent=False, alpha=1.0, time_viewer=False, subjects_dir=subjects_dir,\n",
    "                          clim='auto', cortex='classic', size=500,\n",
    "                          background=\"black\", initial_time=0.09)"
   ]
  },
  {
   "cell_type": "markdown",
   "metadata": {},
   "source": [
    "## Plot source estimates with time viewer and color bar"
   ]
  },
  {
   "cell_type": "code",
   "execution_count": 6,
   "metadata": {
    "scrolled": false
   },
   "outputs": [
    {
     "name": "stdout",
     "output_type": "stream",
     "text": [
      "Morphing data...\n",
      "    Left-hemisphere map read.\n",
      "    Right-hemisphere map read.\n",
      "    Left-hemisphere map read.\n",
      "    Right-hemisphere map read.\n",
      "    10 smooth iterations done.\n",
      "    10 smooth iterations done.\n",
      "[done]\n"
     ]
    },
    {
     "data": {
      "application/vnd.jupyter.widget-view+json": {
       "model_id": "485f90e2f53a4aa988ef9e9a4c3ae4b1",
       "version_major": 2,
       "version_minor": 0
      },
      "text/plain": [
       "VBox(children=(Figure(animation=100.0, animation_exponent=1.0, camera=PerspectiveCamera(fov=46.0, position=(0.…"
      ]
     },
     "metadata": {},
     "output_type": "display_data"
    }
   ],
   "source": [
    "fig = mne_g3d.viz.plot_source_estimates(stc, subject=subject, surface='inflated', hemi='both',\n",
    "                          colormap='hot', smoothing_steps=10, time_unit='s', time_label='auto',\n",
    "                          transparent=False, alpha=1.0, time_viewer=True, subjects_dir=subjects_dir,\n",
    "                          clim='auto', size=500, background=\"black\", initial_time=0.09, colorbar=True)"
   ]
  },
  {
   "cell_type": "code",
   "execution_count": null,
   "metadata": {},
   "outputs": [],
   "source": []
  }
 ],
 "metadata": {
  "kernelspec": {
   "display_name": "Python (mne_g3d)",
   "language": "python",
   "name": "mne_g3d"
  },
  "language_info": {
   "codemirror_mode": {
    "name": "ipython",
    "version": 3
   },
   "file_extension": ".py",
   "mimetype": "text/x-python",
   "name": "python",
   "nbconvert_exporter": "python",
   "pygments_lexer": "ipython3",
   "version": "3.5.5"
  }
 },
 "nbformat": 4,
 "nbformat_minor": 2
}
