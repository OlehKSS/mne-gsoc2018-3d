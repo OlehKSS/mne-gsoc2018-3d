{
 "cells": [
  {
   "cell_type": "markdown",
   "metadata": {},
   "source": [
    "# Brain Mesh"
   ]
  },
  {
   "cell_type": "markdown",
   "metadata": {},
   "source": [
    "## Import of  modules"
   ]
  },
  {
   "cell_type": "code",
   "execution_count": 1,
   "metadata": {},
   "outputs": [],
   "source": [
    "import os.path as path\n",
    "\n",
    "import mne\n",
    "from mne import read_source_estimate\n",
    "\n",
    "import numpy as np"
   ]
  },
  {
   "cell_type": "code",
   "execution_count": 2,
   "metadata": {},
   "outputs": [],
   "source": [
    "import mne_g3d"
   ]
  },
  {
   "cell_type": "markdown",
   "metadata": {},
   "source": [
    "## Data reading"
   ]
  },
  {
   "cell_type": "code",
   "execution_count": 3,
   "metadata": {
    "scrolled": false
   },
   "outputs": [
    {
     "name": "stdout",
     "output_type": "stream",
     "text": [
      "[0.   0.01 0.02 0.03 0.04 0.05 0.06 0.07 0.08 0.09 0.1  0.11 0.12 0.13\n",
      " 0.14 0.15 0.16 0.17 0.18 0.19 0.2  0.21 0.22 0.23 0.24]\n",
      "Morphing data...\n",
      "    Left-hemisphere map read.\n",
      "    Right-hemisphere map read.\n",
      "    Left-hemisphere map read.\n",
      "    Right-hemisphere map read.\n",
      "    10 smooth iterations done.\n",
      "    10 smooth iterations done.\n",
      "[done]\n"
     ]
    },
    {
     "data": {
      "application/vnd.jupyter.widget-view+json": {
       "model_id": "7fe0019a0c6949a4b3b61c97d38b4a0b",
       "version_major": 2,
       "version_minor": 0
      },
      "text/plain": [
       "VBox(children=(Figure(camera=PerspectiveCamera(fov=46.0, position=(0.0, 0.0, 2.0), quaternion=(0.0, 0.0, 0.0, …"
      ]
     },
     "metadata": {},
     "output_type": "display_data"
    }
   ],
   "source": [
    "data_path = mne.datasets.sample.data_path()\n",
    "\n",
    "subject = 'sample'\n",
    "subjects_dir = path.join(data_path, 'subjects')\n",
    "act_data = path.join(data_path, 'MEG/sample/sample_audvis-meg-eeg')\n",
    "\n",
    "stc = read_source_estimate(act_data)\n",
    "print(stc.times)\n",
    "#\"lat\", \"med\", \"fos\", \"cau\", \"dor\",\n",
    "#        \"ven\", \"fro\", \"par\"].\n",
    "\n",
    "fig = mne_g3d.viz.plot_source_estimates(stc, subject=subject, surface='inflated', hemi='both',\n",
    "                          colormap='hot', smoothing_steps=10, \n",
    "                          transparent=False, alpha=1.0, subjects_dir=subjects_dir,\n",
    "                          clim='auto', figure=None, size=800,\n",
    "                          background=\"black\", initial_time=0.23)"
   ]
  },
  {
   "cell_type": "code",
   "execution_count": null,
   "metadata": {},
   "outputs": [],
   "source": []
  }
 ],
 "metadata": {
  "kernelspec": {
   "display_name": "Python (mne_g3d)",
   "language": "python",
   "name": "mne_g3d"
  },
  "language_info": {
   "codemirror_mode": {
    "name": "ipython",
    "version": 3
   },
   "file_extension": ".py",
   "mimetype": "text/x-python",
   "name": "python",
   "nbconvert_exporter": "python",
   "pygments_lexer": "ipython3",
   "version": "3.5.5"
  }
 },
 "nbformat": 4,
 "nbformat_minor": 2
}
