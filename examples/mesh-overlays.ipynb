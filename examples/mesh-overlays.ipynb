{
 "cells": [
  {
   "cell_type": "markdown",
   "metadata": {},
   "source": [
    "# Mesh Overlays"
   ]
  },
  {
   "cell_type": "markdown",
   "metadata": {},
   "source": [
    "## Import Modules"
   ]
  },
  {
   "cell_type": "code",
   "execution_count": 1,
   "metadata": {},
   "outputs": [],
   "source": [
    "import os.path as path\n",
    "\n",
    "import ipyvolume as ipv\n",
    "from ipyvolume.pylab import style\n",
    "\n",
    "import pythreejs\n",
    "from pythreejs import BlendingMode, Side, ShaderMaterial\n",
    "\n",
    "import numpy as np\n",
    "\n",
    "import mne"
   ]
  },
  {
   "cell_type": "code",
   "execution_count": 2,
   "metadata": {},
   "outputs": [],
   "source": [
    "import mne_g3d"
   ]
  },
  {
   "cell_type": "markdown",
   "metadata": {},
   "source": [
    "## Read Data"
   ]
  },
  {
   "cell_type": "code",
   "execution_count": 4,
   "metadata": {},
   "outputs": [],
   "source": [
    "data_path = mne.datasets.sample.data_path()\n",
    "\n",
    "subject = 'sample'\n",
    "subjects_dir = path.join(data_path, 'subjects')\n",
    "\n",
    "rh_mesh_path = path.join(subjects_dir, subject, 'surf/rh.pial')\n",
    "lh_mesh_path = path.join(subjects_dir, subject, 'surf/lh.pial')\n",
    "\n",
    "rh_morph_path = path.join(subjects_dir, subject, 'surf/rh.curv')\n",
    "lh_morph_path = path.join(subjects_dir, subject, 'surf/lh.curv')\n",
    "\n",
    "rh_vertices, rh_faces = mne_g3d.read_brain_mesh(rh_mesh_path)\n",
    "lh_vertices, lh_faces = mne_g3d.read_brain_mesh(lh_mesh_path)\n",
    "\n",
    "_, rh_color = mne_g3d.read_morph(rh_morph_path)\n",
    "_, lh_color = mne_g3d.read_morph(lh_morph_path)"
   ]
  },
  {
   "cell_type": "markdown",
   "metadata": {},
   "source": [
    "## Generate a mesh with overlays"
   ]
  },
  {
   "cell_type": "code",
   "execution_count": 5,
   "metadata": {},
   "outputs": [
    {
     "data": {
      "application/vnd.jupyter.widget-view+json": {
       "model_id": "e5de862e75fe47388fdd187948df9724",
       "version_major": 2,
       "version_minor": 0
      },
      "text/plain": [
       "VBox(children=(Figure(camera=PerspectiveCamera(fov=46.0, position=(0.0, 0.0, 2.0), quaternion=(0.0, 0.0, 0.0, …"
      ]
     },
     "metadata": {},
     "output_type": "display_data"
    }
   ],
   "source": [
    "fig = ipv.figure(width=500, height=500, lighting=True)\n",
    "\n",
    "rh_mesh_opaque = ipv.plot_trisurf(rh_vertices[:, 0], rh_vertices[:, 1], rh_vertices[:,2], triangles=rh_faces, color=rh_color)\n",
    "lh_mesh_opaque = ipv.plot_trisurf(lh_vertices[:, 0], lh_vertices[:, 1], lh_vertices[:,2], triangles=lh_faces, color=lh_color)\n",
    "\n",
    "\n",
    "# Here I will generate colors with \"activation\"\n",
    "rh_act_color = np.zeros(rh_color.shape)\n",
    "lh_act_color = np.zeros(lh_color.shape)\n",
    "\n",
    "rh_act_color[3000:4000] = np.array([0, 0, 255])\n",
    "\n",
    "rh_act_color[10000:14000] = np.array([0, 0, 255])\n",
    "\n",
    "lh_act_color[-3000:-1] = np.array([255, 0, 0])\n",
    "\n",
    "# Tranparency and color blending for the new material of the meshes\n",
    "mat = ShaderMaterial()\n",
    "mat.alphaTest = 0.1\n",
    "mat.blending = BlendingMode.AdditiveBlending\n",
    "mat.transparent = True\n",
    "mat.side = Side.DoubleSide\n",
    "\n",
    "\n",
    "rh_mesh_transp = ipv.plot_trisurf(rh_vertices[:, 0], rh_vertices[:, 1], rh_vertices[:,2], triangles=rh_faces, color=rh_act_color)\n",
    "rh_mesh_transp.material = mat\n",
    "\n",
    "\n",
    "lh_mesh_transp = ipv.plot_trisurf(lh_vertices[:, 0], lh_vertices[:, 1], lh_vertices[:,2], triangles=lh_faces, color=lh_act_color)\n",
    "lh_mesh_transp.material = mat\n",
    "\n",
    "\n",
    "ipv.style.box_off()\n",
    "ipv.style.axes_off()\n",
    "ipv.style.background_color('black')\n",
    "    \n",
    "ipv.squarelim()\n",
    "ipv.show()"
   ]
  },
  {
   "cell_type": "code",
   "execution_count": null,
   "metadata": {},
   "outputs": [],
   "source": []
  }
 ],
 "metadata": {
  "kernelspec": {
   "display_name": "Python (mne_g3d)",
   "language": "python",
   "name": "mne_g3d"
  },
  "language_info": {
   "codemirror_mode": {
    "name": "ipython",
    "version": 3
   },
   "file_extension": ".py",
   "mimetype": "text/x-python",
   "name": "python",
   "nbconvert_exporter": "python",
   "pygments_lexer": "ipython3",
   "version": "3.5.5"
  }
 },
 "nbformat": 4,
 "nbformat_minor": 2
}
