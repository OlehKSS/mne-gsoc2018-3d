{
 "cells": [
  {
   "cell_type": "markdown",
   "metadata": {},
   "source": [
    "# Brain Mesh"
   ]
  },
  {
   "cell_type": "markdown",
   "metadata": {},
   "source": [
    "## Import of  modules"
   ]
  },
  {
   "cell_type": "code",
   "execution_count": 1,
   "metadata": {},
   "outputs": [],
   "source": [
    "import os.path as path\n",
    "\n",
    "import ipyvolume as ipv\n",
    "from ipyvolume.pylab import style\n",
    "import mne"
   ]
  },
  {
   "cell_type": "code",
   "execution_count": 2,
   "metadata": {},
   "outputs": [],
   "source": [
    "import mne_g3d"
   ]
  },
  {
   "cell_type": "markdown",
   "metadata": {},
   "source": [
    "## Data reading"
   ]
  },
  {
   "cell_type": "code",
   "execution_count": 5,
   "metadata": {},
   "outputs": [
    {
     "name": "stdout",
     "output_type": "stream",
     "text": [
      "Morphing data...\n",
      "    Left-hemisphere map read.\n",
      "    Right-hemisphere map read.\n",
      "    Left-hemisphere map read.\n",
      "    Right-hemisphere map read.\n",
      "    10 smooth iterations done.\n",
      "    10 smooth iterations done.\n",
      "[done]\n"
     ]
    }
   ],
   "source": [
    "data_path = mne.datasets.sample.data_path()\n",
    "\n",
    "subject = 'sample'\n",
    "subjects_dir = path.join(data_path, 'subjects')\n",
    "act_data = path.join(data_path, 'MEG/sample/sample_audvis-meg-eeg')\n",
    "\n",
    "rh_mesh_path = path.join(subjects_dir, subject, 'surf/rh.pial')\n",
    "lh_mesh_path = path.join(subjects_dir, subject, 'surf/lh.pial')\n",
    "\n",
    "rh_morph_path = path.join(subjects_dir, subject, 'surf/rh.curv')\n",
    "lh_morph_path = path.join(subjects_dir, subject, 'surf/lh.curv')\n",
    "\n",
    "rh_vertices, rh_faces = mne_g3d.read_brain_mesh(rh_mesh_path)\n",
    "lh_vertices, lh_faces = mne_g3d.read_brain_mesh(lh_mesh_path)\n",
    "\n",
    "act_data = mne_g3d.read_activation_data(act_data, subject_name=subject, subjects_dir=subjects_dir)\n",
    "\n",
    "_, rh_color = mne_g3d.read_morph(rh_morph_path)\n",
    "_, lh_color = mne_g3d.read_morph(lh_morph_path)"
   ]
  },
  {
   "cell_type": "markdown",
   "metadata": {
    "scrolled": true
   },
   "source": [
    "## Data visualization"
   ]
  },
  {
   "cell_type": "code",
   "execution_count": 6,
   "metadata": {},
   "outputs": [
    {
     "data": {
      "application/vnd.jupyter.widget-view+json": {
       "model_id": "2fa5492380c24536a7e8ed42b76a49dd",
       "version_major": 2,
       "version_minor": 0
      },
      "text/plain": [
       "VBox(children=(Figure(camera=PerspectiveCamera(fov=46.0, position=(0.0, 0.0, 2.0), quaternion=(0.0, 0.0, 0.0, …"
      ]
     },
     "metadata": {},
     "output_type": "display_data"
    }
   ],
   "source": [
    "fig, rh_mesh, lh_mesh = mne_g3d.plot_brain_mesh(rh_vertices,\n",
    "                                                lh_vertices,\n",
    "                                                rh_faces,\n",
    "                                                lh_faces,\n",
    "                                                rh_color=rh_color,\n",
    "                                                lh_color=lh_color,\n",
    "                                                act_data=act_data)"
   ]
  },
  {
   "cell_type": "code",
   "execution_count": null,
   "metadata": {},
   "outputs": [],
   "source": []
  }
 ],
 "metadata": {
  "kernelspec": {
   "display_name": "Python (mne_g3d)",
   "language": "python",
   "name": "mne_g3d"
  },
  "language_info": {
   "codemirror_mode": {
    "name": "ipython",
    "version": 3
   },
   "file_extension": ".py",
   "mimetype": "text/x-python",
   "name": "python",
   "nbconvert_exporter": "python",
   "pygments_lexer": "ipython3",
   "version": "3.5.5"
  }
 },
 "nbformat": 4,
 "nbformat_minor": 2
}
