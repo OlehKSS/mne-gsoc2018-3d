{
 "cells": [
  {
   "cell_type": "markdown",
   "metadata": {},
   "source": [
    "# Brain Mesh"
   ]
  },
  {
   "cell_type": "markdown",
   "metadata": {},
   "source": [
    "## Import of  modules"
   ]
  },
  {
   "cell_type": "code",
   "execution_count": 1,
   "metadata": {},
   "outputs": [],
   "source": [
    "import os.path as path\n",
    "\n",
    "import ipyvolume as ipv\n",
    "from ipyvolume.pylab import style\n",
    "import mne"
   ]
  },
  {
   "cell_type": "code",
   "execution_count": 2,
   "metadata": {},
   "outputs": [],
   "source": [
    "import mne_g3d"
   ]
  },
  {
   "cell_type": "markdown",
   "metadata": {},
   "source": [
    "## Data reading"
   ]
  },
  {
   "cell_type": "code",
   "execution_count": 3,
   "metadata": {},
   "outputs": [],
   "source": [
    "data_path = mne.datasets.sample.data_path()\n",
    "\n",
    "subject = 'sample'\n",
    "subjects_dir = path.join(data_path, 'subjects')\n",
    "\n",
    "rh_mesh_path = path.join(subjects_dir, subject, 'surf/rh.pial')\n",
    "lh_mesh_path = path.join(subjects_dir, subject, 'surf/lh.pial')\n",
    "\n",
    "rh_morph_path = path.join(subjects_dir, subject, 'surf/rh.curv')\n",
    "lh_morph_path = path.join(subjects_dir, subject, 'surf/lh.curv')\n",
    "\n",
    "rh_vertices, rh_faces = mne_g3d.read_brain_mesh(rh_mesh_path)\n",
    "lh_vertices, lh_faces = mne_g3d.read_brain_mesh(lh_mesh_path)\n",
    "\n",
    "_, rh_color = mne_g3d.read_morph(rh_morph_path)\n",
    "_, lh_color = mne_g3d.read_morph(lh_morph_path)"
   ]
  },
  {
   "cell_type": "markdown",
   "metadata": {
    "scrolled": true
   },
   "source": [
    "## Data visualization"
   ]
  },
  {
   "cell_type": "code",
   "execution_count": 4,
   "metadata": {},
   "outputs": [
    {
     "data": {
      "application/vnd.jupyter.widget-view+json": {
       "model_id": "baf3449321c7425187c1a6c2cbbc1860",
       "version_major": 2,
       "version_minor": 0
      },
      "text/plain": [
       "VBox(children=(Figure(anglex=1.5707963267948966, angley=1.5707963267948966, camera_center=[0.0, 0.0, 0.0], hei…"
      ]
     },
     "metadata": {},
     "output_type": "display_data"
    }
   ],
   "source": [
    "fig, rh_mesh, lh_mesh = mne_g3d.plot_brain_mesh(rh_vertices,\n",
    "                                                lh_vertices,\n",
    "                                                rh_faces,\n",
    "                                                lh_faces,\n",
    "                                                rh_color=rh_color,\n",
    "                                                lh_color=lh_color)"
   ]
  },
  {
   "cell_type": "code",
   "execution_count": null,
   "metadata": {},
   "outputs": [],
   "source": []
  }
 ],
 "metadata": {
  "kernelspec": {
   "display_name": "Python (mne_g3d)",
   "language": "python",
   "name": "mne_g3d"
  },
  "language_info": {
   "codemirror_mode": {
    "name": "ipython",
    "version": 3
   },
   "file_extension": ".py",
   "mimetype": "text/x-python",
   "name": "python",
   "nbconvert_exporter": "python",
   "pygments_lexer": "ipython3",
   "version": "3.5.5"
  }
 },
 "nbformat": 4,
 "nbformat_minor": 2
}
