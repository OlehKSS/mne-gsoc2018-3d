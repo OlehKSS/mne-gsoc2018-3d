{
 "cells": [
  {
   "cell_type": "markdown",
   "metadata": {},
   "source": [
    "# Brain Mesh"
   ]
  },
  {
   "cell_type": "markdown",
   "metadata": {},
   "source": [
    "## Import of  modules"
   ]
  },
  {
   "cell_type": "code",
   "execution_count": 1,
   "metadata": {},
   "outputs": [],
   "source": [
    "import os.path as path\n",
    "\n",
    "import ipyvolume as ipv\n",
    "from ipyvolume.pylab import style\n",
    "import mne\n",
    "\n",
    "import numpy as np"
   ]
  },
  {
   "cell_type": "code",
   "execution_count": 2,
   "metadata": {},
   "outputs": [],
   "source": [
    "import mne_g3d"
   ]
  },
  {
   "cell_type": "markdown",
   "metadata": {},
   "source": [
    "## Data reading"
   ]
  },
  {
   "cell_type": "code",
   "execution_count": 3,
   "metadata": {},
   "outputs": [],
   "source": [
    "data_path = mne.datasets.sample.data_path()\n",
    "\n",
    "subject = 'sample'\n",
    "subjects_dir = path.join(data_path, 'subjects')\n",
    "\n",
    "rh_mesh_path_pial = path.join(subjects_dir, subject, 'surf/rh.pial')\n",
    "lh_mesh_path_pial = path.join(subjects_dir, subject, 'surf/lh.pial')\n",
    "\n",
    "rh_mesh_path_inf = path.join(subjects_dir, subject, 'surf/rh.inflated')\n",
    "lh_mesh_path_inf = path.join(subjects_dir, subject, 'surf/lh.inflated')\n",
    "\n",
    "rh_morph_path = path.join(subjects_dir, subject, 'surf/rh.curv')\n",
    "lh_morph_path = path.join(subjects_dir, subject, 'surf/lh.curv')\n",
    "\n",
    "rh_vertices_pial, rh_faces_pial = mne_g3d.read_brain_mesh(rh_mesh_path_pial)\n",
    "lh_vertices_pial, lh_faces_pial = mne_g3d.read_brain_mesh(lh_mesh_path_pial)\n",
    "\n",
    "rh_vertices_inf, rh_faces_inf = mne_g3d.read_brain_mesh(rh_mesh_path_inf)\n",
    "lh_vertices_inf, lh_faces_inf = mne_g3d.read_brain_mesh(lh_mesh_path_inf)\n",
    "\n",
    "_, rh_color = mne_g3d.read_morph(rh_morph_path)\n",
    "_, lh_color = mne_g3d.read_morph(lh_morph_path)"
   ]
  },
  {
   "cell_type": "markdown",
   "metadata": {
    "scrolled": true
   },
   "source": [
    "## Data visualization"
   ]
  },
  {
   "cell_type": "markdown",
   "metadata": {},
   "source": [
    "### Pial surface"
   ]
  },
  {
   "cell_type": "code",
   "execution_count": 5,
   "metadata": {},
   "outputs": [
    {
     "data": {
      "application/vnd.jupyter.widget-view+json": {
       "model_id": "1df373246c01424182ec70a8d0af1634",
       "version_major": 2,
       "version_minor": 0
      },
      "text/plain": [
       "VBox(children=(Figure(camera=PerspectiveCamera(fov=46.0, position=(0.0, 0.0, 2.0), quaternion=(0.0, 0.0, 0.0, …"
      ]
     },
     "metadata": {},
     "output_type": "display_data"
    }
   ],
   "source": [
    "fig, rh_mesh, lh_mesh = mne_g3d.plot_brain_mesh(rh_vertices_pial,\n",
    "                                                lh_vertices_pial,\n",
    "                                                rh_faces_pial,\n",
    "                                                lh_faces_pial,\n",
    "                                                rh_color=rh_color,\n",
    "                                                lh_color=lh_color,\n",
    "                                                offset=None)"
   ]
  },
  {
   "cell_type": "markdown",
   "metadata": {},
   "source": [
    "### Inflated surface"
   ]
  },
  {
   "cell_type": "code",
   "execution_count": 9,
   "metadata": {},
   "outputs": [
    {
     "data": {
      "application/vnd.jupyter.widget-view+json": {
       "model_id": "5c36097afa0546eaa0b39ef85faaeb2c",
       "version_major": 2,
       "version_minor": 0
      },
      "text/plain": [
       "VBox(children=(Figure(camera=PerspectiveCamera(fov=46.0, position=(0.0, 0.0, 2.0), quaternion=(0.0, 0.0, 0.0, …"
      ]
     },
     "metadata": {},
     "output_type": "display_data"
    }
   ],
   "source": [
    "fig, rh_mesh, lh_mesh = mne_g3d.plot_brain_mesh(rh_vertices_inf,\n",
    "                                                lh_vertices_inf,\n",
    "                                                rh_faces_inf,\n",
    "                                                lh_faces_inf,\n",
    "                                                rh_color=rh_color,\n",
    "                                                lh_color=lh_color)"
   ]
  },
  {
   "cell_type": "code",
   "execution_count": null,
   "metadata": {},
   "outputs": [],
   "source": []
  }
 ],
 "metadata": {
  "kernelspec": {
   "display_name": "Python (mne_g3d)",
   "language": "python",
   "name": "mne_g3d"
  },
  "language_info": {
   "codemirror_mode": {
    "name": "ipython",
    "version": 3
   },
   "file_extension": ".py",
   "mimetype": "text/x-python",
   "name": "python",
   "nbconvert_exporter": "python",
   "pygments_lexer": "ipython3",
   "version": "3.5.5"
  }
 },
 "nbformat": 4,
 "nbformat_minor": 2
}
